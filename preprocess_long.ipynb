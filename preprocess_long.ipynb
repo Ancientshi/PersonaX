{
 "cells": [
  {
   "cell_type": "code",
   "execution_count": 6,
   "metadata": {},
   "outputs": [
    {
     "name": "stdout",
     "output_type": "stream",
     "text": [
      "2934949\n"
     ]
    }
   ],
   "source": [
    "import json\n",
    "import pandas as pd\n",
    "import gzip\n",
    "\n",
    "\n",
    "def getDF(path):\n",
    "  df={}\n",
    "  i = 0\n",
    "  with open(path,'r',encoding='utf-8') as f:\n",
    "    for line in f.readlines():\n",
    "      line_dict =  json.loads(line)\n",
    "      df[i] = line_dict\n",
    "      i+=1\n",
    "  return pd.DataFrame.from_dict(df, orient='index')\n",
    "\n",
    "meta_df = getDF('meta_Books.json')\n",
    "#asin, title, brand, categories, price\n",
    "meta_df = meta_df[['asin', 'title', 'brand', 'category','description']]\n",
    "meta_df.rename(columns={'asin':'item'}, inplace=True)\n",
    "print(meta_df.shape[0])\n",
    "\n",
    "meta_df = meta_df.dropna(subset=['title'])\n",
    "print(meta_df.shape[0])"
   ]
  },
  {
   "cell_type": "code",
   "execution_count": 7,
   "metadata": {},
   "outputs": [
    {
     "name": "stdout",
     "output_type": "stream",
     "text": [
      "         item                                              title  \\\n",
      "0  0000092878  Biology Gods Living Creation Third Edition 10 ...   \n",
      "1  000047715X  Mksap 16 Audio Companion: Medical Knowledge Se...   \n",
      "2  0000004545  Flex! Discography of North American Punk, Hard...   \n",
      "3  0000013765         Heavenly Highway Hymns: Shaped-Note Hymnal   \n",
      "4  0000000116  Georgina Goodman Nelson Womens Size 8.5 Purple...   \n",
      "\n",
      "              brand                                           category  \\\n",
      "0      Keith Graham                                                 []   \n",
      "1               Acp  [Books, New, Used & Rental Textbooks, Medicine...   \n",
      "2  Burkhard Jarisch                 [Books, Arts & Photography, Music]   \n",
      "3     Stamps/Baxter                 [Books, Arts & Photography, Music]   \n",
      "4                                                                   []   \n",
      "\n",
      "                                         description  \n",
      "0  [It is a biology book with God&apos;s perspect...  \n",
      "1                                                 []  \n",
      "2  [Discography of American Punk, Hardcore, and P...  \n",
      "3  [This is a collection of classic gospel hymns ...  \n",
      "4                                                 []  \n",
      "         item            user  rating   timestamp\n",
      "0  0001713353  A1REUF3A1YCPHM       1  1112140800\n",
      "1  0001713353   A1YRBRK2XM5D5       1  1081036800\n",
      "2  0001713353  A1V8ZR5P78P4ZU       1  1077321600\n",
      "3  0001713353  A2ZB06582NXCIV       1  1475452800\n",
      "4  0001713353   ACPQVNRD3Z09X       1  1469750400\n",
      "Index(['item', 'title', 'brand', 'category', 'description'], dtype='object')\n",
      "Index(['item', 'user', 'rating', 'timestamp'], dtype='object')\n"
     ]
    }
   ],
   "source": [
    "rating_df =  pd.read_csv('ratings_Books.csv')\n",
    "#add columns, user, item, rating, timestamp\n",
    "rating_df.columns = ['item','user','rating','timestamp']\n",
    "#remove rating=3\n",
    "rating_df = rating_df[rating_df['rating'] != 3]\n",
    "rating_df['rating'] = rating_df['rating'].apply(lambda x: 1 if x > 3 else 0)\n",
    "#delete duplicates\n",
    "rating_df = rating_df.drop_duplicates(subset=['item', 'user'], keep='first')\n",
    "\n",
    "\n",
    "print(meta_df.head())\n",
    "print(rating_df.head())\n",
    "\n",
    "print(meta_df.columns)\n",
    "print(rating_df.columns)"
   ]
  },
  {
   "cell_type": "code",
   "execution_count": 19,
   "metadata": {},
   "outputs": [],
   "source": [
    "import random\n",
    "random.seed(42)\n",
    "\n",
    "unique_user_list = rating_df['user'].unique()\n",
    "sampled_user_list = rating_df['user'].value_counts().index[1000:2000].tolist()\n",
    "sampled_rating_df = rating_df[rating_df['user'].isin(sampled_user_list)]"
   ]
  },
  {
   "cell_type": "code",
   "execution_count": 20,
   "metadata": {},
   "outputs": [
    {
     "name": "stdout",
     "output_type": "stream",
     "text": [
      "         item            user  rating   timestamp  \\\n",
      "0  0001712799  A1BNWEJ7RVPLQ1       1  1421193600   \n",
      "1  0002006448  A1DK5AZMXS1QA3       1  1136505600   \n",
      "2  0002005263   A9ANMVCEOQ8P7       1  1052265600   \n",
      "3  0002005263  A1D6PWUMDY9F7V       1  1182816000   \n",
      "4  0002005263  A2VZ11U5DXM8J5       1  1068681600   \n",
      "\n",
      "                                                                                  title  \\\n",
      "0                                                                      Great Day for Up   \n",
      "1  The Carpet Wars: From Kabul to Baghdad A Ten-Year Journey Along Ancient Trade Routes   \n",
      "2                                                                      The Sinister Pig   \n",
      "3                                                                      The Sinister Pig   \n",
      "4                                                                      The Sinister Pig   \n",
      "\n",
      "                                     brand                          category  \\\n",
      "0             Visit Amazon's Dr Seuss Page  [Books, Children's Books, Humor]   \n",
      "1  Visit Amazon's Christopher Kremmer Page   [Books, Travel, Travel Writing]   \n",
      "2      Visit Amazon's Tony. Hillerman Page                                []   \n",
      "3      Visit Amazon's Tony. Hillerman Page                                []   \n",
      "4      Visit Amazon's Tony. Hillerman Page                                []   \n",
      "\n",
      "                                                                                                                                                                                                                                                                                                                                                                                                                                                                                                                                                                                                                                                                                                                                                                                                                                                                                                                                                                                                                                                                                       description  \n",
      "0  [\"[Dr. Seuss] has...instilled a lifelong love of books, learning and reading [in children]\" - The Telegraph\"Dr. Seuss ignites a child's imagination with his mischievous characters and zany verses\" - The Express\"The magic of Dr. Seuss, with his hilarious rhymes, belongs on the family bookshelf\" - Sunday Times Magazine\"The author... has filled many a childhood with unforgettable characters, stunning illustrations, and of course, glorious rhyme\" - The Guardian\"Dr. Seuss ignites a child's imagination with his mischievous characters and zany verses.\" - The Express\\n\\t\\t\\t\\t\\t\\t    \\t\\n\\t\\t\\t\\t\\t\\t        \\t--This text refers to the <a href='/dp/0606367004/ref=dp_bookdescription?_encoding=UTF8&amp;n=283155'>Library Binding</a> edition., Illus. in full color. The meanings of \"up\" are conveyed with merry verse and illustrations in a happy book that celebrates the joy of life.\\n\\t\\t\\t\\t\\t\\t    \\t\\n\\t\\t\\t\\t\\t\\t        \\t--This text refers to the <a href='/dp/0606367004/ref=dp_bookdescription?_encoding=UTF8&amp;n=283155'>Library Binding</a> edition.]  \n",
      "1                                                                                                                                                                                                                                                                                                                                                                                                                                                                                                                                                                                                                                                                                                                                                                                                                                                                                                                                                                                                                                                                  [Book by Kremmer, Christopher.]  \n",
      "2                                                                                                                                                                                                                                                                                                                                                                                                                                                                                                                                                                                                                                                                                                                                                                                                                                                                                                                                                                                                                                                                          [LARGE PRINT HARDBACK.]  \n",
      "3                                                                                                                                                                                                                                                                                                                                                                                                                                                                                                                                                                                                                                                                                                                                                                                                                                                                                                                                                                                                                                                                          [LARGE PRINT HARDBACK.]  \n",
      "4                                                                                                                                                                                                                                                                                                                                                                                                                                                                                                                                                                                                                                                                                                                                                                                                                                                                                                                                                                                                                                                                          [LARGE PRINT HARDBACK.]  \n"
     ]
    }
   ],
   "source": [
    "sampled_rating_df = pd.merge(sampled_rating_df, meta_df, on='item', how='left')\n",
    "print(sampled_rating_df.head())\n",
    "sampled_rating_df = sampled_rating_df.dropna(subset=['title'])\n",
    "sampled_rating_df = sampled_rating_df.drop_duplicates(subset=['item', 'user'], keep='first')\n",
    "\n"
   ]
  },
  {
   "cell_type": "code",
   "execution_count": 21,
   "metadata": {},
   "outputs": [
    {
     "name": "stdout",
     "output_type": "stream",
     "text": [
      "unique item num: 222539\n",
      "interactions: 481455\n",
      "sparsity: 0.9978365365171947\n",
      "user interactions: 481.455\n"
     ]
    },
    {
     "data": {
      "image/png": "[encoded data removed]",
      "text/plain": [
       "<Figure size 640x480 with 1 Axes>"
      ]
     },
     "metadata": {},
     "output_type": "display_data"
    }
   ],
   "source": [
    "def stat(sampled_rating_df):\n",
    "    unique_item_list = sampled_rating_df['item'].unique()\n",
    "    print('unique item num:', len(unique_item_list))\n",
    "\n",
    "    print('interactions:', len(sampled_rating_df))\n",
    "\n",
    "    sparsity = 1 - len(sampled_rating_df) / (len(sampled_rating_df['user'].unique()) * len(sampled_rating_df['item'].unique())\n",
    "    )\n",
    "    print('sparsity:', sparsity)\n",
    "    \n",
    "    user_interactions = sampled_rating_df['user'].value_counts()\n",
    "    user_interactions.hist()\n",
    "    print('user interactions:', user_interactions.mean())\n",
    "\n",
    "stat(sampled_rating_df)"
   ]
  },
  {
   "cell_type": "code",
   "execution_count": 22,
   "metadata": {},
   "outputs": [
    {
     "name": "stdout",
     "output_type": "stream",
     "text": [
      "unique item num: 222539\n",
      "interactions: 481455\n",
      "sparsity: 0.9978365365171947\n",
      "user interactions: 481.455\n"
     ]
    },
    {
     "data": {
      "image/png": "[encoded data removed]",
      "text/plain": [
       "<Figure size 640x480 with 1 Axes>"
      ]
     },
     "metadata": {},
     "output_type": "display_data"
    }
   ],
   "source": [
    "\n",
    "# tail_num = 50\n",
    "# resampled_rating_df = sampled_rating_df.groupby('user').tail(tail_num)\n",
    "\n",
    "resampled_rating_df=sampled_rating_df\n",
    "stat(resampled_rating_df)"
   ]
  },
  {
   "cell_type": "code",
   "execution_count": 23,
   "metadata": {},
   "outputs": [],
   "source": [
    "\n",
    "resampled_rating_df = resampled_rating_df.rename(columns={'item': 'item_id', 'user': 'user_id'})\n",
    "resampled_rating_df.to_csv('sampled_long_org.csv', index=False, header=True)"
   ]
  },
  {
   "cell_type": "code",
   "execution_count": 24,
   "metadata": {},
   "outputs": [
    {
     "name": "stdout",
     "output_type": "stream",
     "text": [
      "1    43322752\n",
      "0     3923249\n",
      "Name: rating, dtype: int64\n"
     ]
    },
    {
     "data": {
      "image/png": "[encoded data removed]",
      "text/plain": [
       "<Figure size 640x480 with 1 Axes>"
      ]
     },
     "metadata": {},
     "output_type": "display_data"
    }
   ],
   "source": [
    "\n",
    "rating_df['rating'].value_counts().plot(kind='bar')\n",
    "print(rating_df['rating'].value_counts())\n",
    "\n",
    "\n",
    "sampled_user_list = resampled_rating_df['user_id'].unique()\n",
    "random.seed(42)\n",
    "sampled_user_list = random.sample(list(sampled_user_list), 100)\n",
    "sampled_resampled_rating_df = resampled_rating_df[resampled_rating_df['user_id'].isin(sampled_user_list)]\n",
    "sampled_resampled_rating_df = sampled_resampled_rating_df.sort_values(by=['user_id', 'timestamp'])\n",
    "\n",
    "sampled_resampled_rating_df.to_csv('sampled_long.csv', index=False, header=True)\n"
   ]
  }
 ],
 "metadata": {
  "kernelspec": {
   "display_name": "base",
   "language": "python",
   "name": "python3"
  },
  "language_info": {
   "codemirror_mode": {
    "name": "ipython",
    "version": 3
   },
   "file_extension": ".py",
   "mimetype": "text/x-python",
   "name": "python",
   "nbconvert_exporter": "python",
   "pygments_lexer": "ipython3",
   "version": "3.10.9"
  }
 },
 "nbformat": 4,
 "nbformat_minor": 2
}
